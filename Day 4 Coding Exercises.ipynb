{
 "cells": [
  {
   "cell_type": "markdown",
   "id": "07676a98",
   "metadata": {},
   "source": [
    "#### Coding Exercise 1\n",
    "Create a program that:\n",
    "\n",
    "1. Prompts the user to input a (dollar) amount.\n",
    "\n",
    "2. Calculates the corresponding amount in euros, given an exchange rate of 0.95.\n",
    "\n",
    "3. Prints out the amount in euros, as shown in the screenshot below."
   ]
  },
  {
   "cell_type": "code",
   "execution_count": 11,
   "id": "ab15002f",
   "metadata": {},
   "outputs": [
    {
     "name": "stdout",
     "output_type": "stream",
     "text": [
      "How many dollars have you got: $79\n",
      "The amount in euros is: €75.05\n"
     ]
    }
   ],
   "source": [
    "amount = float(input(\"How many dollars have you got: \\N{dollar sign}\"))\n",
    "print(f\"The amount in euros is: \\N{euro sign}{amount * 0.95}\")"
   ]
  },
  {
   "cell_type": "markdown",
   "id": "cfe689c3",
   "metadata": {},
   "source": [
    "<details>\n",
    "    <summary><b>Note to self</b></summary>\n",
    "\n",
    "    You can use Unicode Character Name\n",
    "\n",
    "    \\N{name} is great way to print unicode character symbol.\n",
    "\n",
    "        >>> print \"Please pay %s\"%(u\"\\N{euro sign}\")\n",
    "        Please pay €\n",
    "\n",
    "        >>> print \"Please pay %s\"%(u\"\\N{dollar sign}\")\n",
    "        Please pay $\n",
    "\n",
    "        >>> print \"Please pay %s\"%(u\"\\N{rupee sign}\")\n",
    "        Please pay ₨\n",
    "\n",
    "        >>> print \"Please pay %s\"%(u\"\\N{pound sign}\")\n",
    "        Please pay £"
   ]
  },
  {
   "cell_type": "markdown",
   "id": "d64cf0c5",
   "metadata": {},
   "source": [
    "#### Coding Exercise 2\n",
    "The list below represents the ranking of three athletes. John won 1st place, Sen got 2nd, and Lisa the 3rd.\n",
    "\n",
    "ranking = ['John', 'Sen', 'Lisa']\n",
    "\n",
    "\n",
    "\n",
    "Create a program that:\n",
    "\n",
    "1. Contains the above list.\n",
    "\n",
    "2. Prompts the user to input a rank number.\n",
    "\n",
    "3. Returns the person who has the given rank."
   ]
  },
  {
   "cell_type": "code",
   "execution_count": 48,
   "id": "527565f8",
   "metadata": {},
   "outputs": [
    {
     "name": "stdout",
     "output_type": "stream",
     "text": [
      "Enter rank number: 1\n",
      "John\n"
     ]
    }
   ],
   "source": [
    "ranking = ['John', 'Sen', 'Lisa']\n",
    "\n",
    "rank = int(input(\"Enter rank number: \"))\n",
    "name = ranking[rank-1]\n",
    "\n",
    "print(name)"
   ]
  },
  {
   "cell_type": "markdown",
   "id": "bcd635f9",
   "metadata": {},
   "source": [
    "#### Coding Exercise 3\n",
    "We have the same list:\n",
    "\n",
    "ranking = ['John', 'Sen', 'Lisa']\n",
    "\n",
    "This time you need to create a program that:\n",
    "\n",
    "    1. Contains the above list.\n",
    "\n",
    "    2 Prompts the user to input the person's name.\n",
    "\n",
    "    3. Returns the rank that person has."
   ]
  },
  {
   "cell_type": "code",
   "execution_count": 56,
   "id": "651ec937",
   "metadata": {},
   "outputs": [
    {
     "name": "stdout",
     "output_type": "stream",
     "text": [
      "Enter a name: John\n",
      "1\n"
     ]
    }
   ],
   "source": [
    "ranking = ['John', 'Sen', 'Lisa']\n",
    "\n",
    "ranking = ['John', 'Sen', 'Lisa']\n",
    "name = input(\"Enter a name: \")\n",
    "rank = ranking.index(name) + 1\n",
    "print(rank)"
   ]
  },
  {
   "cell_type": "code",
   "execution_count": null,
   "id": "a7ccd71d",
   "metadata": {},
   "outputs": [],
   "source": []
  },
  {
   "cell_type": "code",
   "execution_count": null,
   "id": "69053930",
   "metadata": {},
   "outputs": [],
   "source": []
  },
  {
   "cell_type": "code",
   "execution_count": null,
   "id": "7a0ec52b",
   "metadata": {},
   "outputs": [],
   "source": []
  }
 ],
 "metadata": {
  "kernelspec": {
   "display_name": "Python 3 (ipykernel)",
   "language": "python",
   "name": "python3"
  },
  "language_info": {
   "codemirror_mode": {
    "name": "ipython",
    "version": 3
   },
   "file_extension": ".py",
   "mimetype": "text/x-python",
   "name": "python",
   "nbconvert_exporter": "python",
   "pygments_lexer": "ipython3",
   "version": "3.8.16"
  }
 },
 "nbformat": 4,
 "nbformat_minor": 5
}
